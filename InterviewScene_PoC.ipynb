{
  "nbformat": 4,
  "nbformat_minor": 0,
  "metadata": {
    "colab": {
      "provenance": [],
      "authorship_tag": "ABX9TyMMUMEP+38dM2PY4BsHqegB",
      "include_colab_link": true
    },
    "kernelspec": {
      "name": "python3",
      "display_name": "Python 3"
    },
    "language_info": {
      "name": "python"
    }
  },
  "cells": [
    {
      "cell_type": "markdown",
      "metadata": {
        "id": "view-in-github",
        "colab_type": "text"
      },
      "source": [
        "<a href=\"https://colab.research.google.com/github/sweetspot00/AICommand/blob/main/InterviewScene_PoC.ipynb\" target=\"_parent\"><img src=\"https://colab.research.google.com/assets/colab-badge.svg\" alt=\"Open In Colab\"/></a>"
      ]
    },
    {
      "cell_type": "code",
      "execution_count": null,
      "metadata": {
        "id": "V17kVoNIotDG"
      },
      "outputs": [],
      "source": [
        "%pip install openai\n",
        "import os\n",
        "import openai\n",
        "\n",
        "api_key = \"\"\n",
        "# api_key is a variable saved in the secrets menu\n",
        "openai.api_key = api_key"
      ]
    },
    {
      "cell_type": "code",
      "source": [
        "### openai utils\n",
        "async def get_gpt_chat_response(input):\n",
        "  response = openai.ChatCompletion.create(\n",
        "    model=\"gpt-3.5-turbo\",\n",
        "    messages=[\n",
        "            {\"role\": \"system\", \"content\": \"You are a chatbot\"},\n",
        "            {\"role\": \"user\", \"content\": input},\n",
        "        ]\n",
        "    )\n",
        "  result = ''\n",
        "  for choice in response.choices:\n",
        "      result += choice.message.content\n",
        "  return result"
      ],
      "metadata": {
        "id": "frJJd1J31PO_"
      },
      "execution_count": 1,
      "outputs": []
    },
    {
      "cell_type": "code",
      "source": [
        "### interview scene configuration\n",
        "num_interviewer = 1\n",
        "num_candidates = 4\n",
        "format = \"Leaderless group interview\"\n",
        "topic = \"\""
      ],
      "metadata": {
        "id": "gACMz2nducv2"
      },
      "execution_count": 2,
      "outputs": []
    },
    {
      "cell_type": "code",
      "source": [
        "### init prompt\n",
        "init = \"You are handling an\" + format + \"session. You should do the role play and interact with the user. There are\" + str(num_interviewer) + \"interviewer and\\\n",
        "\" + str(num_candidates) + \"other candidates that you shold role play. Please select one classical topic of this interview\""
      ],
      "metadata": {
        "id": "iutu6ZVqwPiM"
      },
      "execution_count": 4,
      "outputs": []
    },
    {
      "cell_type": "code",
      "source": [],
      "metadata": {
        "id": "EaL6MTP2yGrx"
      },
      "execution_count": null,
      "outputs": []
    }
  ]
}